{
 "cells": [
  {
   "cell_type": "markdown",
   "metadata": {},
   "source": [
    "# Лабораторная работа №2\n",
    "Студент: Артамонов Олег  \n",
    "Группа М80-208Б-19  \n",
    "Номер по списку: 3"
   ]
  },
  {
   "cell_type": "markdown",
   "metadata": {},
   "source": [
    "### **Задание 1. Дихотомия и метод Ньютона.**  \n",
    "Функция: $y = x^3 - 9x^2 + 23x - 15$"
   ]
  },
  {
   "cell_type": "markdown",
   "metadata": {},
   "source": [
    "Зададим параметры plot'а и выведем график нашей функции"
   ]
  },
  {
   "cell_type": "code",
   "execution_count": 228,
   "metadata": {},
   "outputs": [
    {
     "data": {
      "image/png": "[encoded data removed]",
      "text/plain": [
       "Graphics object consisting of 1 graphics primitive"
      ]
     },
     "execution_count": 228,
     "metadata": {},
     "output_type": "execute_result"
    }
   ],
   "source": [
    "plot.options[\"xmin\"] = -1.8\n",
    "plot.options[\"xmax\"] = 7.5\n",
    "plot.options[\"ymin\"] = -25\n",
    "plot.options[\"ymax\"] = 25\n",
    "\n",
    "func(x) = x^3 - 9*x^2 + 23*x - 15\n",
    "plot(func)"
   ]
  },
  {
   "cell_type": "markdown",
   "metadata": {},
   "source": [
    "Сразу найдем корни через solve, чтобы потом сделать проверки:"
   ]
  },
  {
   "cell_type": "code",
   "execution_count": 232,
   "metadata": {},
   "outputs": [
    {
     "data": {
      "text/html": [
       "<html><script type=\"math/tex; mode=display\">\\newcommand{\\Bold}[1]{\\mathbf{#1}}x = 1</script></html>"
      ],
      "text/latex": [
       "\\begin{math}\n",
       "\\newcommand{\\Bold}[1]{\\mathbf{#1}}x = 1\n",
       "\\end{math}"
      ],
      "text/plain": [
       "x == 1"
      ]
     },
     "metadata": {},
     "output_type": "display_data"
    },
    {
     "data": {
      "text/html": [
       "<html><script type=\"math/tex; mode=display\">\\newcommand{\\Bold}[1]{\\mathbf{#1}}x = 5</script></html>"
      ],
      "text/latex": [
       "\\begin{math}\n",
       "\\newcommand{\\Bold}[1]{\\mathbf{#1}}x = 5\n",
       "\\end{math}"
      ],
      "text/plain": [
       "x == 5"
      ]
     },
     "metadata": {},
     "output_type": "display_data"
    },
    {
     "data": {
      "text/html": [
       "<html><script type=\"math/tex; mode=display\">\\newcommand{\\Bold}[1]{\\mathbf{#1}}x = 3</script></html>"
      ],
      "text/latex": [
       "\\begin{math}\n",
       "\\newcommand{\\Bold}[1]{\\mathbf{#1}}x = 3\n",
       "\\end{math}"
      ],
      "text/plain": [
       "x == 3"
      ]
     },
     "metadata": {},
     "output_type": "display_data"
    }
   ],
   "source": [
    "roots = solve(func(x), x)\n",
    "for root in roots:\n",
    "    show(root)"
   ]
  },
  {
   "cell_type": "markdown",
   "metadata": {},
   "source": [
    "Запомним их"
   ]
  },
  {
   "cell_type": "code",
   "execution_count": 233,
   "metadata": {},
   "outputs": [],
   "source": [
    "root1 = roots[0].rhs().n()\n",
    "root2 = roots[2].rhs().n()\n",
    "root3 = roots[1].rhs().n()"
   ]
  },
  {
   "cell_type": "markdown",
   "metadata": {},
   "source": [
    "Реализуем метод Ньютона и метод дихотомии:"
   ]
  },
  {
   "cell_type": "code",
   "execution_count": 230,
   "metadata": {},
   "outputs": [],
   "source": [
    "def newton(f, a, b, EPS=1e-5):\n",
    "    x1 = a\n",
    "    x2 = (a + b) / 2\n",
    "    \n",
    "    df = f.derivative()\n",
    "    \n",
    "    p = plot(f,(0,6), title=\"Поиск корня методом Ньютона на отрезке от {} до {}\".format(a, b.n(digits=3)))\n",
    "    \n",
    "    while abs(x2 - x1) >= EPS:\n",
    "        x1 = x2\n",
    "        x2 = x1 - f(x=x1)/df(x=x1)\n",
    "    \n",
    "    if a <= x1 <= b:\n",
    "        p += point((x1, 0), color=\"red\", size=30, zorder=20)\n",
    "        p += text(r\"$x$\", (x1, 5), color=\"black\", fontsize=14)\n",
    "        p += text(r\"x $\\approx$ {}\".format(x1.n(digits=7)), (1, -20), horizontal_alignment=\"left\", color=\"black\")\n",
    "    else:\n",
    "        p += text(\"Корня на данном отрезке нет\", (0.5, -20), horizontal_alignment=\"left\", color=\"black\")\n",
    "    \n",
    "    return p"
   ]
  },
  {
   "cell_type": "code",
   "execution_count": 231,
   "metadata": {},
   "outputs": [],
   "source": [
    "def dichotomy(f, a, b, EPS=1e-5):\n",
    "    x1 = a\n",
    "    x2 = b\n",
    "    \n",
    "    p = plot(f,(0,6), title=\"Поиск корня методом дихотомии на отрезке от {} до {}\".format(a, b.n(digits=3)))\n",
    "    \n",
    "    if a <= root1 <= b or a <= root2 <= b or a <= root3 <= b:\n",
    "        while abs(x2 - x1) / 2 > EPS:\n",
    "            c = (x1 + x2) / 2\n",
    "            if func(x1) * func(c) > 0:\n",
    "                x1 = c\n",
    "            else:\n",
    "                x2 = c\n",
    "\n",
    "        p += point((c, 0), color=\"red\", size=30, zorder=20)\n",
    "        p += text(r\"$x$\", (c, 5), color=\"black\", fontsize=14)\n",
    "        p += text(r\"x $\\approx$ {}\".format(c.n(digits=7)), (0.5, -20), horizontal_alignment=\"left\", color=\"black\")\n",
    "    else:\n",
    "        p += text(\"Корня на данном отрезке нет\", (0.5, -20), horizontal_alignment=\"left\", color=\"black\")\n",
    "        \n",
    "    return p"
   ]
  },
  {
   "cell_type": "markdown",
   "metadata": {},
   "source": [
    "Нахождение корней с помощью метода Ньютона"
   ]
  },
  {
   "cell_type": "code",
   "execution_count": 159,
   "metadata": {},
   "outputs": [
    {
     "data": {
      "application/vnd.jupyter.widget-view+json": {
       "model_id": "17419af5f45e48b19fa4e76f98e77654",
       "version_major": 2,
       "version_minor": 0
      },
      "text/plain": [
       "Interactive function <function _ at 0x7ff792daed30> with 1 widget\n",
       "  a: FloatSlider(value=3.0, description='a',…"
      ]
     },
     "metadata": {},
     "output_type": "display_data"
    }
   ],
   "source": [
    "@interact\n",
    "def _(a=(0, 6, .1)):\n",
    "    b = a + 0.5\n",
    "    show(newton(func, a, b))"
   ]
  },
  {
   "cell_type": "markdown",
   "metadata": {},
   "source": [
    "Нахождение корней с помощью метода дихотомии"
   ]
  },
  {
   "cell_type": "code",
   "execution_count": 154,
   "metadata": {},
   "outputs": [
    {
     "data": {
      "application/vnd.jupyter.widget-view+json": {
       "model_id": "fc903b686189468e99a526cfaa4d077a",
       "version_major": 2,
       "version_minor": 0
      },
      "text/plain": [
       "Interactive function <function _ at 0x7ff79f103040> with 1 widget\n",
       "  a: FloatSlider(value=3.0, description='a',…"
      ]
     },
     "metadata": {},
     "output_type": "display_data"
    }
   ],
   "source": [
    "@interact\n",
    "def _(a=(0, 6, .1)):\n",
    "    b = a + 0.5\n",
    "    show(dichotomy(func, a, b))"
   ]
  },
  {
   "cell_type": "markdown",
   "metadata": {},
   "source": [
    "Выведем результаты двух методов:"
   ]
  },
  {
   "cell_type": "code",
   "execution_count": 234,
   "metadata": {},
   "outputs": [
    {
     "data": {
      "image/png": "[encoded data removed]",
      "text/plain": [
       "Graphics Array of size 3 x 2"
      ]
     },
     "execution_count": 234,
     "metadata": {},
     "output_type": "execute_result"
    }
   ],
   "source": [
    "p1 = plot(func, (0, 6), ymin=-6, ymax=6, title=\"Результаты метода Ньютона\")\n",
    "p1 += point((root1, 0), color=\"red\", size=15, zorder=20)\n",
    "p2 = plot(func, (0, 6), ymin=-6, ymax=6, title=\"Результаты метода дихотомии\")\n",
    "p2 += point((root1, 0), color=\"red\", size=15, zorder=20)\n",
    "p3 = plot(func, (0, 6), ymin=-6, ymax=6)\n",
    "p3 += point((root2, 0), color=\"red\", size=15, zorder=20)\n",
    "p4 = plot(func, (0, 6), ymin=-6, ymax=6)\n",
    "p4 += point((root2, 0), color=\"red\", size=15, zorder=20)\n",
    "p5 = plot(func, (0, 6), ymin=-6, ymax=6)\n",
    "p5 += point((root3, 0), color=\"red\", size=15, zorder=20)\n",
    "p6 = plot(func, (0, 6), ymin=-6, ymax=6)\n",
    "p6 += point((root3, 0), color=\"red\", size=15, zorder=20)\n",
    "\n",
    "graphics_array([[p1, p2], [p3, p4], [p5, p6]],show(frame=True, axes=True))"
   ]
  },
  {
   "cell_type": "markdown",
   "metadata": {},
   "source": [
    "Сравнив с корнями, которые нашли с помощью solve(), можно сказать, что методы довольно близко(точно) определили корни на заданных отрезках."
   ]
  },
  {
   "cell_type": "code",
   "execution_count": 237,
   "metadata": {},
   "outputs": [
    {
     "data": {
      "text/html": [
       "<html><script type=\"math/tex; mode=display\">\\newcommand{\\Bold}[1]{\\mathbf{#1}}\\left[x = 1, x = 5, x = 3\\right]</script></html>"
      ],
      "text/latex": [
       "\\begin{math}\n",
       "\\newcommand{\\Bold}[1]{\\mathbf{#1}}\\left[x = 1, x = 5, x = 3\\right]\n",
       "\\end{math}"
      ],
      "text/plain": [
       "[x == 1, x == 5, x == 3]"
      ]
     },
     "metadata": {},
     "output_type": "display_data"
    }
   ],
   "source": [
    "show(roots)"
   ]
  },
  {
   "cell_type": "markdown",
   "metadata": {},
   "source": [
    "### **Задание 2. Наибольший общий делитель. Полиномы.**  \n",
    "\n",
    "**Вариант 3**  \n",
    "$f = 126x^6 - 54x^5 - 28x^3 + 12x^2 + 14x - 6$  \n",
    "$g = -42x^5 + 39x^4 - 9x^3 - 189x + 81$\n",
    "\n",
    "Задание:  \n",
    "1) реализовать расширенный алгоритм Евклида  \n",
    "2) получить НОД, сравнить его с результатом от функции gcd()  \n",
    "3) получить представление НОД в виде: f*u + v*g (тождество Безу)  "
   ]
  },
  {
   "cell_type": "markdown",
   "metadata": {},
   "source": [
    "Определим полиномы кольца рациональных чисел:"
   ]
  },
  {
   "cell_type": "code",
   "execution_count": 239,
   "metadata": {},
   "outputs": [],
   "source": [
    "R.<x> = PolynomialRing(QQ,'x')\n",
    "f = 126*x^6 - 54*x^5 - 28*x^3 + 12*x^2 + 14*x - 6\n",
    "g = -42*x^5 + 39*x^4 - 9*x^3 - 189*x + 81"
   ]
  },
  {
   "cell_type": "markdown",
   "metadata": {},
   "source": [
    "Расширенный алгоритм Евклида: "
   ]
  },
  {
   "cell_type": "code",
   "execution_count": 242,
   "metadata": {},
   "outputs": [],
   "source": [
    "def extended_gcd(a, b):\n",
    "    if (a == 0):\n",
    "        return b, 0, 1\n",
    "\n",
    "    d, x1, y1 = n_gcd(b % a, a)\n",
    "    x = y1 - (b // a) * x1\n",
    "    y = x1\n",
    "    return d, x, y"
   ]
  },
  {
   "cell_type": "code",
   "execution_count": 244,
   "metadata": {},
   "outputs": [
    {
     "data": {
      "text/html": [
       "<html><script type=\"math/tex; mode=display\">\\newcommand{\\Bold}[1]{\\mathbf{#1}}\\verb|GCD|\\phantom{\\verb!x!}\\verb|=| -\\frac{5585932569209944}{29199662027163} x + \\frac{797990367029992}{9733220675721}</script></html>"
      ],
      "text/latex": [
       "\\begin{math}\n",
       "\\newcommand{\\Bold}[1]{\\mathbf{#1}}\\verb|GCD|\\phantom{\\verb!x!}\\verb|=| -\\frac{5585932569209944}{29199662027163} x + \\frac{797990367029992}{9733220675721}\n",
       "\\end{math}"
      ],
      "text/plain": [
       "'GCD =' -5585932569209944/29199662027163*x + 797990367029992/9733220675721"
      ]
     },
     "metadata": {},
     "output_type": "display_data"
    },
    {
     "data": {
      "text/html": [
       "<html><script type=\"math/tex; mode=display\">\\newcommand{\\Bold}[1]{\\mathbf{#1}}\\verb|u|\\phantom{\\verb!x!}\\verb|=| -\\frac{2208196}{28078299} x^{3} + \\frac{2206657991486}{29199662027163} x^{2} - \\frac{49663432138}{3244406891907} x - \\frac{562474997414}{29199662027163}</script></html>"
      ],
      "text/latex": [
       "\\begin{math}\n",
       "\\newcommand{\\Bold}[1]{\\mathbf{#1}}\\verb|u|\\phantom{\\verb!x!}\\verb|=| -\\frac{2208196}{28078299} x^{3} + \\frac{2206657991486}{29199662027163} x^{2} - \\frac{49663432138}{3244406891907} x - \\frac{562474997414}{29199662027163}\n",
       "\\end{math}"
      ],
      "text/plain": [
       "'u = ' -2208196/28078299*x^3 + 2206657991486/29199662027163*x^2 - 49663432138/3244406891907*x - 562474997414/29199662027163"
      ]
     },
     "metadata": {},
     "output_type": "display_data"
    },
    {
     "data": {
      "text/html": [
       "<html><script type=\"math/tex; mode=display\">\\newcommand{\\Bold}[1]{\\mathbf{#1}}\\verb|v|\\phantom{\\verb!x!}\\verb|=| -\\frac{2208196}{9359433} x^{4} + \\frac{1058465629660}{9733220675721} x^{3} + \\frac{82261925588}{9733220675721} x^{2} - \\frac{99326864276}{87598986081489} x + \\frac{88540601892796}{87598986081489}</script></html>"
      ],
      "text/latex": [
       "\\begin{math}\n",
       "\\newcommand{\\Bold}[1]{\\mathbf{#1}}\\verb|v|\\phantom{\\verb!x!}\\verb|=| -\\frac{2208196}{9359433} x^{4} + \\frac{1058465629660}{9733220675721} x^{3} + \\frac{82261925588}{9733220675721} x^{2} - \\frac{99326864276}{87598986081489} x + \\frac{88540601892796}{87598986081489}\n",
       "\\end{math}"
      ],
      "text/plain": [
       "'v = ' -2208196/9359433*x^4 + 1058465629660/9733220675721*x^3 + 82261925588/9733220675721*x^2 - 99326864276/87598986081489*x + 88540601892796/87598986081489"
      ]
     },
     "metadata": {},
     "output_type": "display_data"
    }
   ],
   "source": [
    "res, u, v = extended_gcd(f, g)\n",
    "show(\"GCD =\", res)\n",
    "show(\"u = \", u)\n",
    "show(\"v = \", v)"
   ]
  },
  {
   "cell_type": "markdown",
   "metadata": {},
   "source": [
    "Нормируем (берем обратный коэффициент для старшего x'а в GCD и домножаем на u и v):"
   ]
  },
  {
   "cell_type": "code",
   "execution_count": 250,
   "metadata": {},
   "outputs": [],
   "source": [
    "k = 29199662027163/5585932569209944\n",
    "\n",
    "GCD = res * k\n",
    "u = u * k\n",
    "v = v * k"
   ]
  },
  {
   "cell_type": "markdown",
   "metadata": {},
   "source": [
    "Представление НОД в виде тождества Безу:"
   ]
  },
  {
   "cell_type": "code",
   "execution_count": 251,
   "metadata": {},
   "outputs": [
    {
     "data": {
      "text/html": [
       "<html><script type=\"math/tex; mode=display\">\\newcommand{\\Bold}[1]{\\mathbf{#1}}-x + \\frac{3}{7}</script></html>"
      ],
      "text/latex": [
       "\\begin{math}\n",
       "\\newcommand{\\Bold}[1]{\\mathbf{#1}}-x + \\frac{3}{7}\n",
       "\\end{math}"
      ],
      "text/plain": [
       "-x + 3/7"
      ]
     },
     "metadata": {},
     "output_type": "display_data"
    }
   ],
   "source": [
    "show(u*f + v*g)"
   ]
  },
  {
   "cell_type": "code",
   "execution_count": 252,
   "metadata": {},
   "outputs": [
    {
     "data": {
      "text/html": [
       "<html><script type=\"math/tex; mode=display\">\\newcommand{\\Bold}[1]{\\mathbf{#1}}-x + \\frac{3}{7}</script></html>"
      ],
      "text/latex": [
       "\\begin{math}\n",
       "\\newcommand{\\Bold}[1]{\\mathbf{#1}}-x + \\frac{3}{7}\n",
       "\\end{math}"
      ],
      "text/plain": [
       "-x + 3/7"
      ]
     },
     "metadata": {},
     "output_type": "display_data"
    }
   ],
   "source": [
    "show(k1)"
   ]
  },
  {
   "cell_type": "markdown",
   "metadata": {},
   "source": [
    "Соотношение Безу выполняется, теперь сверим наш ответ со стандартным gcd()"
   ]
  },
  {
   "cell_type": "code",
   "execution_count": 249,
   "metadata": {},
   "outputs": [
    {
     "data": {
      "text/html": [
       "<html><script type=\"math/tex; mode=display\">\\newcommand{\\Bold}[1]{\\mathbf{#1}}x - \\frac{3}{7}</script></html>"
      ],
      "text/latex": [
       "\\begin{math}\n",
       "\\newcommand{\\Bold}[1]{\\mathbf{#1}}x - \\frac{3}{7}\n",
       "\\end{math}"
      ],
      "text/plain": [
       "x - 3/7"
      ]
     },
     "metadata": {},
     "output_type": "display_data"
    }
   ],
   "source": [
    "show(gcd(f,g))"
   ]
  },
  {
   "cell_type": "markdown",
   "metadata": {},
   "source": [
    "Получился тот же ответ (он кратен нашему ответу)"
   ]
  }
 ],
 "metadata": {
  "kernelspec": {
   "display_name": "SageMath 9.2",
   "language": "sage",
   "name": "sagemath"
  },
  "language_info": {
   "codemirror_mode": {
    "name": "ipython",
    "version": 3
   },
   "file_extension": ".py",
   "mimetype": "text/x-python",
   "name": "python",
   "nbconvert_exporter": "python",
   "pygments_lexer": "ipython3",
   "version": "3.9.1"
  }
 },
 "nbformat": 4,
 "nbformat_minor": 4
}
