{
 "cells": [
  {
   "cell_type": "markdown",
   "metadata": {},
   "source": [
    "## Лабораторная работа №1 по Системам аналитических решений \n",
    "### Cтудент: Артамонов Олег\n",
    "### Группа: М80-208Б-19 "
   ]
  },
  {
   "cell_type": "markdown",
   "metadata": {},
   "source": [
    "**Часть 1 - Квадратик**"
   ]
  },
  {
   "cell_type": "code",
   "execution_count": 1,
   "metadata": {},
   "outputs": [
    {
     "data": {
      "image/png": "[encoded data removed]",
      "text/plain": [
       "Graphics object consisting of 2 graphics primitives"
      ]
     },
     "metadata": {},
     "output_type": "display_data"
    }
   ],
   "source": [
    "import math\n",
    "\n",
    "# Функция для параллельного переноса фигур с 4мя координатами\n",
    "def parallel_move(list_coords, dx=0, dy=0):\n",
    "    for i in range(5):\n",
    "        list_coords[i, 0] = list_coords[i, 0] + dx\n",
    "        list_coords[i, 1] = list_coords[i, 1] + dy\n",
    "    return list_coords\n",
    "        \n",
    "\n",
    "# Задаем квадрат матрицей и длину стороны\n",
    "side = 5\n",
    "rectangle_src = matrix([[0,0], [0, side], [side, side], [side, 0], [0, 0]])\n",
    "\n",
    "# Задаем угол в 30 градусов и матрицу поворота (против часовой стрелки) этим углом; \n",
    "alpha = math.radians(30)\n",
    "mat_rot = matrix([\n",
    "    [cos(alpha), sin(alpha)],\n",
    "    [-sin(alpha), cos(alpha)]\n",
    "])\n",
    "\n",
    "# Получаем повернутый квадрат, умножив координаты квадрата на матрицу поворота\n",
    "rectangle_another = rectangle_src * mat_rot\n",
    "\n",
    "# Применяем функцию для параллельного переноса повернутого квадрата на 9 вправо по x и на 6 вверх по y\n",
    "rectangle_another = parallel_move(rectangle_another, 9, 6)\n",
    "\n",
    "# Отображаем эти два квадрата, задаем прорисовку от 0 до 15 (по x и y),\n",
    "# соотношение между единичными отрезками осей на экране равно 1\n",
    "show(line(rectangle_src) + line(rectangle_another), xmin=0, xmax=15, ymin=0, ymax=15, aspect_ratio=1)"
   ]
  },
  {
   "cell_type": "markdown",
   "metadata": {},
   "source": [
    "**Часть 2 - Исследование функции**"
   ]
  },
  {
   "cell_type": "markdown",
   "metadata": {},
   "source": [
    "**Номер задания: 2**"
   ]
  },
  {
   "cell_type": "code",
   "execution_count": 2,
   "metadata": {},
   "outputs": [
    {
     "data": {
      "text/html": [
       "<html><script type=\"math/tex; mode=display\">\\newcommand{\\Bold}[1]{\\mathbf{#1}}\\verb|Функция:| \\frac{\\sqrt{{\\left| 3 \\, x^{3} + 2 \\, x^{2} - 10 \\, x \\right|}}}{4 \\, x}</script></html>"
      ],
      "text/latex": [
       "\\begin{math}\n",
       "\\newcommand{\\Bold}[1]{\\mathbf{#1}}\\verb|Функция:| \\frac{\\sqrt{{\\left| 3 \\, x^{3} + 2 \\, x^{2} - 10 \\, x \\right|}}}{4 \\, x}\n",
       "\\end{math}"
      ],
      "text/plain": [
       "'Функция:' 1/4*sqrt(abs(3*x^3 + 2*x^2 - 10*x))/x"
      ]
     },
     "metadata": {},
     "output_type": "display_data"
    }
   ],
   "source": [
    "show(\"Функция:\", sqrt(abs(3*x**3 + 2*x**2 - 10*x)) / (4*x))"
   ]
  },
  {
   "cell_type": "markdown",
   "metadata": {},
   "source": [
    "Для заданной формулой функции найти:\n",
    "<ol>\n",
    "    <li>Область определения функции.</li>\n",
    "    <li>Является ли функция четной или нечетной, является ли периодической.</li>\n",
    "    <li>Точки пересечения графика с осями координат.</li>\n",
    "    <li>Промежутки знакопостоянства.</li>\n",
    "    <li>Промежутки возрастания и убывания.</li>\n",
    "    <li>Точки экстремума и значения в этих точках.</li>\n",
    "    <li>Непрерывность. Наличие точек разрыва и их классификация.</li>\n",
    "    <li>Асимптоты.</li>\n",
    "</ol>\n",
    "Построить график функции, асимптоты, промежутки знакопостоянства. (см. папку с материалами).<br>\n",
    "Необходимо также сделать минимальное, но оформление решения, а не просто набор ответов."
   ]
  },
  {
   "cell_type": "code",
   "execution_count": 3,
   "metadata": {},
   "outputs": [
    {
     "name": "stdout",
     "output_type": "stream",
     "text": [
      "График функции: \n"
     ]
    },
    {
     "data": {
      "text/html": [
       "<html><script type=\"math/tex; mode=display\">\\newcommand{\\Bold}[1]{\\mathbf{#1}}\\frac{\\sqrt{{\\left| 3 \\, x^{3} + 2 \\, x^{2} - 10 \\, x \\right|}}}{4 \\, x}</script></html>"
      ],
      "text/latex": [
       "\\begin{math}\n",
       "\\newcommand{\\Bold}[1]{\\mathbf{#1}}\\frac{\\sqrt{{\\left| 3 \\, x^{3} + 2 \\, x^{2} - 10 \\, x \\right|}}}{4 \\, x}\n",
       "\\end{math}"
      ],
      "text/plain": [
       "1/4*sqrt(abs(3*x^3 + 2*x^2 - 10*x))/x"
      ]
     },
     "metadata": {},
     "output_type": "display_data"
    },
    {
     "data": {
      "image/png": "[encoded data removed]",
      "text/plain": [
       "Graphics object consisting of 1 graphics primitive"
      ]
     },
     "execution_count": 3,
     "metadata": {},
     "output_type": "execute_result"
    }
   ],
   "source": [
    "# Определим функцию и выведем ее график:\n",
    "y(x) = sqrt(abs(3*x**3 + 2*x**2 - 10*x)) / (4*x)\n",
    "print(\"График функции: \")\n",
    "show(y(x))\n",
    "plot(y, xmin = -3.25, xmax = 3.25, ymin = -2.75, ymax = 2.75, aspect_ratio=1, thickness=1)"
   ]
  },
  {
   "cell_type": "markdown",
   "metadata": {},
   "source": [
    "**1. Область определения функции.**  \n",
    "\n",
    "Единственное ограничение у нас по функции x в знаменателе - это x$\\not=$0."
   ]
  },
  {
   "cell_type": "markdown",
   "metadata": {},
   "source": [
    "D : x $\\neq$ 0"
   ]
  },
  {
   "cell_type": "markdown",
   "metadata": {},
   "source": [
    "**2. Является ли функция четной или нечетной, является ли периодической.**"
   ]
  },
  {
   "cell_type": "markdown",
   "metadata": {},
   "source": [
    "Проверка на четность:"
   ]
  },
  {
   "cell_type": "code",
   "execution_count": 4,
   "metadata": {},
   "outputs": [
    {
     "data": {
      "text/plain": [
       "1/4*sqrt(abs(3*x^3 + 2*x^2 - 10*x))/x + 1/4*sqrt(abs(3*x^3 - 2*x^2 - 10*x))/x"
      ]
     },
     "execution_count": 4,
     "metadata": {},
     "output_type": "execute_result"
    }
   ],
   "source": [
    "(y(x) - y(-x)).simplify()"
   ]
  },
  {
   "cell_type": "markdown",
   "metadata": {},
   "source": [
    "Проверка на нечетность:"
   ]
  },
  {
   "cell_type": "code",
   "execution_count": 5,
   "metadata": {},
   "outputs": [
    {
     "data": {
      "text/plain": [
       "1/4*sqrt(abs(3*x^3 + 2*x^2 - 10*x))/x - 1/4*sqrt(abs(3*x^3 - 2*x^2 - 10*x))/x"
      ]
     },
     "execution_count": 5,
     "metadata": {},
     "output_type": "execute_result"
    }
   ],
   "source": [
    "(y(x) - (-y(-x))).simplify()"
   ]
  },
  {
   "cell_type": "markdown",
   "metadata": {},
   "source": [
    "Проверка на периодичность:"
   ]
  },
  {
   "cell_type": "code",
   "execution_count": 6,
   "metadata": {},
   "outputs": [
    {
     "data": {
      "text/html": [
       "<html><script type=\"math/tex; mode=display\">\\newcommand{\\Bold}[1]{\\mathbf{#1}}-\\frac{\\sqrt{{\\left| 3 \\, {\\left(T + x\\right)}^{3} + 2 \\, {\\left(T + x\\right)}^{2} - 10 \\, T - 10 \\, x \\right|}}}{4 \\, {\\left(T + x\\right)}} + \\frac{\\sqrt{{\\left| 3 \\, x^{3} + 2 \\, x^{2} - 10 \\, x \\right|}}}{4 \\, x}</script></html>"
      ],
      "text/latex": [
       "\\begin{math}\n",
       "\\newcommand{\\Bold}[1]{\\mathbf{#1}}-\\frac{\\sqrt{{\\left| 3 \\, {\\left(T + x\\right)}^{3} + 2 \\, {\\left(T + x\\right)}^{2} - 10 \\, T - 10 \\, x \\right|}}}{4 \\, {\\left(T + x\\right)}} + \\frac{\\sqrt{{\\left| 3 \\, x^{3} + 2 \\, x^{2} - 10 \\, x \\right|}}}{4 \\, x}\n",
       "\\end{math}"
      ],
      "text/plain": [
       "-1/4*sqrt(abs(3*(T + x)^3 + 2*(T + x)^2 - 10*T - 10*x))/(T + x) + 1/4*sqrt(abs(3*x^3 + 2*x^2 - 10*x))/x"
      ]
     },
     "metadata": {},
     "output_type": "display_data"
    }
   ],
   "source": [
    "var('x T')\n",
    "eq = y(x) - y(x + T)\n",
    "eq.simplify_full()\n",
    "show(eq)"
   ]
  },
  {
   "cell_type": "markdown",
   "metadata": {},
   "source": [
    "Посмотрев на график функции или на функцию под корнем, сразу становится понятно, что исходная функция не четная, не нечетная и не периодичная, но мы убедились в этом аналитически."
   ]
  },
  {
   "cell_type": "markdown",
   "metadata": {},
   "source": [
    "**3. Точки пересечения графика с осями координат.**  \n",
    "\n",
    "Из области определения x $\\neq$ 0 можно заключить, что точки пересечения графика функции с осью ординат отсутствуют. "
   ]
  },
  {
   "cell_type": "markdown",
   "metadata": {},
   "source": [
    "Теперь найдем точки пересечения с осью абсцисс:"
   ]
  },
  {
   "cell_type": "code",
   "execution_count": 7,
   "metadata": {},
   "outputs": [
    {
     "data": {
      "text/html": [
       "<html><script type=\"math/tex; mode=display\">\\newcommand{\\Bold}[1]{\\mathbf{#1}}-\\frac{1}{3} \\, \\sqrt{31} - \\frac{1}{3}</script></html>"
      ],
      "text/latex": [
       "\\begin{math}\n",
       "\\newcommand{\\Bold}[1]{\\mathbf{#1}}-\\frac{1}{3} \\, \\sqrt{31} - \\frac{1}{3}\n",
       "\\end{math}"
      ],
      "text/plain": [
       "-1/3*sqrt(31) - 1/3"
      ]
     },
     "metadata": {},
     "output_type": "display_data"
    },
    {
     "data": {
      "text/html": [
       "<html><script type=\"math/tex; mode=display\">\\newcommand{\\Bold}[1]{\\mathbf{#1}}\\frac{1}{3} \\, \\sqrt{31} - \\frac{1}{3}</script></html>"
      ],
      "text/latex": [
       "\\begin{math}\n",
       "\\newcommand{\\Bold}[1]{\\mathbf{#1}}\\frac{1}{3} \\, \\sqrt{31} - \\frac{1}{3}\n",
       "\\end{math}"
      ],
      "text/plain": [
       "1/3*sqrt(31) - 1/3"
      ]
     },
     "metadata": {},
     "output_type": "display_data"
    },
    {
     "data": {
      "text/html": [
       "<html><script type=\"math/tex; mode=display\">\\newcommand{\\Bold}[1]{\\mathbf{#1}}0</script></html>"
      ],
      "text/latex": [
       "\\begin{math}\n",
       "\\newcommand{\\Bold}[1]{\\mathbf{#1}}0\n",
       "\\end{math}"
      ],
      "text/plain": [
       "0"
      ]
     },
     "metadata": {},
     "output_type": "display_data"
    }
   ],
   "source": [
    "anss = solve(y==0, x)\n",
    "for ans in anss:\n",
    "    show(ans.rhs())"
   ]
  },
  {
   "cell_type": "markdown",
   "metadata": {},
   "source": [
    "Последний корень, очевидно, не подходит из-за ограничений области определения, первые два - искомые корни. Запомним их."
   ]
  },
  {
   "cell_type": "code",
   "execution_count": 8,
   "metadata": {},
   "outputs": [],
   "source": [
    "root1_value = anss[0].rhs().n()\n",
    "root2_value = anss[1].rhs().n()"
   ]
  },
  {
   "cell_type": "markdown",
   "metadata": {},
   "source": [
    "**4. Промежутки знакопостоянства.**"
   ]
  },
  {
   "cell_type": "code",
   "execution_count": 9,
   "metadata": {},
   "outputs": [
    {
     "data": {
      "text/plain": [
       "[[x == -1/3*sqrt(31) - 1/3], [x > 0]]"
      ]
     },
     "execution_count": 9,
     "metadata": {},
     "output_type": "execute_result"
    }
   ],
   "source": [
    "solve(y(x)>=0, x, algorithm='sympy')"
   ]
  },
  {
   "cell_type": "code",
   "execution_count": 10,
   "metadata": {},
   "outputs": [
    {
     "data": {
      "text/plain": [
       "[[x < -1/3*sqrt(31) - 1/3], [[x > -1/3*sqrt(31) - 1/3], [x < 0]]]"
      ]
     },
     "execution_count": 10,
     "metadata": {},
     "output_type": "execute_result"
    }
   ],
   "source": [
    "solve(y(x)<0, x, algorithm='sympy')"
   ]
  },
  {
   "cell_type": "code",
   "execution_count": 28,
   "metadata": {},
   "outputs": [
    {
     "data": {
      "image/png": "[encoded data removed]",
      "text/plain": [
       "Graphics object consisting of 11 graphics primitives"
      ]
     },
     "metadata": {},
     "output_type": "display_data"
    }
   ],
   "source": [
    "intervals_of_constancy = plot(0, xmin=-3, xmax=3, ymin=-0.5, ymax=0.5)\n",
    "\n",
    "intervals_of_constancy += point((0, 0), color=\"white\", size=5, zorder=10)\n",
    "intervals_of_constancy += point((root1_value, 0), color=\"red\", size=15, zorder=10)\n",
    "intervals_of_constancy += point((root2_value, 0), color=\"red\", size=15, zorder=10)\n",
    "x_margin = 0.1\n",
    "intervals_of_constancy += text(0, (0, x_margin), color=\"black\", fontsize=14)\n",
    "intervals_of_constancy += text(round(root1_value, 4), (-2.1, x_margin), color=\"black\", fontsize=14)\n",
    "intervals_of_constancy += text(round(root2_value, 4), (1.6, x_margin), color=\"black\", fontsize=14)\n",
    "y_margin = 0.1\n",
    "intervals_of_constancy += text(\"-\", (-2.8, y_margin), color=\"black\", fontsize=20)\n",
    "intervals_of_constancy += text(\"-\", (-1, y_margin), color=\"black\", fontsize=20)\n",
    "intervals_of_constancy += text(\"+\", (0.65, y_margin), color=\"black\", fontsize=20)\n",
    "intervals_of_constancy += text(\"+\", (2.5, y_margin), color=\"black\", fontsize=20)\n",
    "\n",
    "\n",
    "intervals_of_constancy.show(axes=False)"
   ]
  },
  {
   "cell_type": "markdown",
   "metadata": {},
   "source": [
    "**5. Промежутки возрастания и убывания.**  \n",
    "\n",
    "Для нахождения промежутков найдем производную и ее интервалы знакопостоянства"
   ]
  },
  {
   "cell_type": "code",
   "execution_count": 12,
   "metadata": {
    "scrolled": true
   },
   "outputs": [
    {
     "data": {
      "text/html": [
       "<html><script type=\"math/tex; mode=display\">\\newcommand{\\Bold}[1]{\\mathbf{#1}}\\frac{{\\left(3 \\, \\overline{x}^{3} + 2 \\, \\overline{x}^{2} - 10 \\, \\overline{x}\\right)} {\\left(9 \\, x^{2} + 4 \\, x - 10\\right)} + {\\left(3 \\, x^{3} + 2 \\, x^{2} - 10 \\, x\\right)} {\\left(9 \\, \\overline{x}^{2} + 4 \\, \\overline{x} - 10\\right)}}{16 \\, x {\\left| 3 \\, x^{3} + 2 \\, x^{2} - 10 \\, x \\right|}^{\\frac{3}{2}}} - \\frac{\\sqrt{{\\left| 3 \\, x^{3} + 2 \\, x^{2} - 10 \\, x \\right|}}}{4 \\, x^{2}}</script></html>"
      ],
      "text/latex": [
       "\\begin{math}\n",
       "\\newcommand{\\Bold}[1]{\\mathbf{#1}}\\frac{{\\left(3 \\, \\overline{x}^{3} + 2 \\, \\overline{x}^{2} - 10 \\, \\overline{x}\\right)} {\\left(9 \\, x^{2} + 4 \\, x - 10\\right)} + {\\left(3 \\, x^{3} + 2 \\, x^{2} - 10 \\, x\\right)} {\\left(9 \\, \\overline{x}^{2} + 4 \\, \\overline{x} - 10\\right)}}{16 \\, x {\\left| 3 \\, x^{3} + 2 \\, x^{2} - 10 \\, x \\right|}^{\\frac{3}{2}}} - \\frac{\\sqrt{{\\left| 3 \\, x^{3} + 2 \\, x^{2} - 10 \\, x \\right|}}}{4 \\, x^{2}}\n",
       "\\end{math}"
      ],
      "text/plain": [
       "1/16*((3*conjugate(x)^3 + 2*conjugate(x)^2 - 10*conjugate(x))*(9*x^2 + 4*x - 10) + (3*x^3 + 2*x^2 - 10*x)*(9*conjugate(x)^2 + 4*conjugate(x) - 10))/(x*abs(3*x^3 + 2*x^2 - 10*x)^(3/2)) - 1/4*sqrt(abs(3*x^3 + 2*x^2 - 10*x))/x^2"
      ]
     },
     "metadata": {},
     "output_type": "display_data"
    }
   ],
   "source": [
    "derv = y(x).derivative()\n",
    "derv.show()"
   ]
  },
  {
   "cell_type": "code",
   "execution_count": 13,
   "metadata": {},
   "outputs": [
    {
     "data": {
      "text/plain": [
       "[[x < -1/3*sqrt(31) - 1/3], [x > 1/3*sqrt(31) - 1/3]]"
      ]
     },
     "execution_count": 13,
     "metadata": {},
     "output_type": "execute_result"
    }
   ],
   "source": [
    "solve(derv > 0, x, algorithm='sympy')"
   ]
  },
  {
   "cell_type": "code",
   "execution_count": 14,
   "metadata": {},
   "outputs": [
    {
     "data": {
      "text/plain": [
       "[[[x > -1/3*sqrt(31) - 1/3], [x < 0]], [[x > 0], [x < 1/3*sqrt(31) - 1/3]]]"
      ]
     },
     "execution_count": 14,
     "metadata": {},
     "output_type": "execute_result"
    }
   ],
   "source": [
    "solve(derv < 0, x, algorithm='sympy')"
   ]
  },
  {
   "cell_type": "markdown",
   "metadata": {},
   "source": [
    "Выведем график производной:"
   ]
  },
  {
   "cell_type": "code",
   "execution_count": 26,
   "metadata": {},
   "outputs": [
    {
     "data": {
      "image/png": "[encoded data removed]",
      "text/plain": [
       "Graphics object consisting of 1 graphics primitive"
      ]
     },
     "execution_count": 26,
     "metadata": {},
     "output_type": "execute_result"
    }
   ],
   "source": [
    "plot(derv, xmin = -3, xmax = 3, ymin = -2, ymax = 2)"
   ]
  },
  {
   "cell_type": "markdown",
   "metadata": {},
   "source": [
    "Теперь отобразим это на промежутках:"
   ]
  },
  {
   "cell_type": "code",
   "execution_count": 27,
   "metadata": {},
   "outputs": [
    {
     "data": {
      "image/png": "[encoded data removed]",
      "text/plain": [
       "Graphics object consisting of 11 graphics primitives"
      ]
     },
     "metadata": {},
     "output_type": "display_data"
    }
   ],
   "source": [
    "intervals_of_constancy = plot(0, xmin=-4, xmax=4, ymin=-0.5, ymax=0.5)\n",
    "\n",
    "intervals_of_constancy += point((0, 0), color=\"white\", size=6, zorder=10)\n",
    "intervals_of_constancy += point((root1_value, 0), color=\"white\", size=6, zorder=10)\n",
    "intervals_of_constancy += point((root2_value, 0), color=\"white\", size=6, zorder=10)\n",
    "x_margin = 0.1\n",
    "intervals_of_constancy += text(0, (0, x_margin), color=\"black\", fontsize=11)\n",
    "intervals_of_constancy += text(round(float(root1_value), 3), (-2.1, x_margin), color=\"black\", fontsize=11)\n",
    "intervals_of_constancy += text(round(float(root2_value), 3), (1.6, x_margin), color=\"black\", fontsize=11)\n",
    "y_margin = 0.1\n",
    "intervals_of_constancy += text(\"$y'(x) > 0$\", (-3.2, y_margin), color=\"black\", fontsize=11)\n",
    "intervals_of_constancy += text(\"$y'(x) < 0$\", (-1, y_margin), color=\"black\", fontsize=11)\n",
    "intervals_of_constancy += text(\"$y'(x) < 0$\", (0.7, y_margin), color=\"black\", fontsize=11)\n",
    "intervals_of_constancy += text(\"$y'(x) > 0$\", (2.7, y_margin), color=\"black\", fontsize=11)\n",
    "\n",
    "\n",
    "intervals_of_constancy.show(axes=False)"
   ]
  },
  {
   "cell_type": "markdown",
   "metadata": {},
   "source": [
    "На промежутках, где производная больше нуля - функция возврастает, на промежутках, где она меньше - убывает. Точки, где исходная функция зануляется, производная не существуют, так как накладывается ограничение из-за знаменателя."
   ]
  },
  {
   "cell_type": "markdown",
   "metadata": {},
   "source": [
    "**6. Точки экстремума и значения в этих точках.**    \n",
    "\n",
    "По графику функции можно понять, что экстремумы находятся в корнях, первый корень (левый) - локальная точка максимума с значением 0, второй корень (правый) - локальная точка максимума с значением 0"
   ]
  },
  {
   "cell_type": "markdown",
   "metadata": {},
   "source": [
    "Первая точка:"
   ]
  },
  {
   "cell_type": "code",
   "execution_count": 17,
   "metadata": {},
   "outputs": [
    {
     "data": {
      "text/plain": [
       "-0.125497"
      ]
     },
     "execution_count": 17,
     "metadata": {},
     "output_type": "execute_result"
    }
   ],
   "source": [
    "round(y(root1_value-0.05), 6)"
   ]
  },
  {
   "cell_type": "code",
   "execution_count": 18,
   "metadata": {},
   "outputs": [
    {
     "data": {
      "text/plain": [
       "-0.0"
      ]
     },
     "execution_count": 18,
     "metadata": {},
     "output_type": "execute_result"
    }
   ],
   "source": [
    "round(y(root1_value), 6)"
   ]
  },
  {
   "cell_type": "code",
   "execution_count": 19,
   "metadata": {},
   "outputs": [
    {
     "data": {
      "text/plain": [
       "-0.126679"
      ]
     },
     "execution_count": 19,
     "metadata": {},
     "output_type": "execute_result"
    }
   ],
   "source": [
    "round(y(root1_value+0.05), 6)"
   ]
  },
  {
   "cell_type": "markdown",
   "metadata": {},
   "source": [
    "Вторая точка:"
   ]
  },
  {
   "cell_type": "code",
   "execution_count": 20,
   "metadata": {},
   "outputs": [
    {
     "data": {
      "text/plain": [
       "0.152684"
      ]
     },
     "execution_count": 20,
     "metadata": {},
     "output_type": "execute_result"
    }
   ],
   "source": [
    "round(y(root2_value-0.05), 6)"
   ]
  },
  {
   "cell_type": "code",
   "execution_count": 21,
   "metadata": {},
   "outputs": [
    {
     "data": {
      "text/plain": [
       "0.0"
      ]
     },
     "execution_count": 21,
     "metadata": {},
     "output_type": "execute_result"
    }
   ],
   "source": [
    "round(y(root2_value), 6)"
   ]
  },
  {
   "cell_type": "code",
   "execution_count": 22,
   "metadata": {},
   "outputs": [
    {
     "data": {
      "text/plain": [
       "0.149754"
      ]
     },
     "execution_count": 22,
     "metadata": {},
     "output_type": "execute_result"
    }
   ],
   "source": [
    "round(y(root2_value+0.05), 6)"
   ]
  },
  {
   "cell_type": "markdown",
   "metadata": {},
   "source": [
    "Функция round() использовалась только для наглядности, чтобы отображать фиксированное количество цифр."
   ]
  },
  {
   "cell_type": "markdown",
   "metadata": {},
   "source": [
    "**7. Непрерывность. Наличие точек разрыва и их классификация.**  \n",
    "\n",
    "Функция непрерывна на D, а в точке $x = 0$ разрыв второго рода - левосторнний и правосторонний пределы равны бесконечностям:"
   ]
  },
  {
   "cell_type": "code",
   "execution_count": 23,
   "metadata": {},
   "outputs": [
    {
     "data": {
      "text/plain": [
       "x |--> Infinity"
      ]
     },
     "execution_count": 23,
     "metadata": {},
     "output_type": "execute_result"
    }
   ],
   "source": [
    "limit(y, x=-0)"
   ]
  },
  {
   "cell_type": "code",
   "execution_count": 24,
   "metadata": {},
   "outputs": [
    {
     "data": {
      "text/plain": [
       "x |--> Infinity"
      ]
     },
     "execution_count": 24,
     "metadata": {},
     "output_type": "execute_result"
    }
   ],
   "source": [
    "limit(y, x=+0)"
   ]
  },
  {
   "cell_type": "markdown",
   "metadata": {},
   "source": [
    "**8. Асимптоты.**"
   ]
  },
  {
   "cell_type": "markdown",
   "metadata": {},
   "source": [
    "Уравнения наклонных асимптот ищут в виде $y = kx + b$.\n",
    "\n",
    "Нахождение коэффициента $k = \\lim_{x\\to\\infty} (y(x) / x)$\n",
    "\n",
    "Нахождение коэффициента $b = \\lim_{x\\to\\infty} (y(x) - kx)$"
   ]
  },
  {
   "cell_type": "code",
   "execution_count": 30,
   "metadata": {},
   "outputs": [
    {
     "data": {
      "text/plain": [
       "0"
      ]
     },
     "execution_count": 30,
     "metadata": {},
     "output_type": "execute_result"
    }
   ],
   "source": [
    "lim(y(x)/x, x=infinity)"
   ]
  },
  {
   "cell_type": "code",
   "execution_count": 31,
   "metadata": {},
   "outputs": [
    {
     "data": {
      "text/plain": [
       "x |--> +Infinity"
      ]
     },
     "execution_count": 31,
     "metadata": {},
     "output_type": "execute_result"
    }
   ],
   "source": [
    "lim(y, x=infinity)"
   ]
  },
  {
   "cell_type": "markdown",
   "metadata": {},
   "source": [
    "Наклонной или горизонтальной ассимптоты не существует, но существует вертикальная при $x = 0$, это мы узнали в начале из области определения."
   ]
  }
 ],
 "metadata": {
  "kernelspec": {
   "display_name": "SageMath 9.2",
   "language": "sage",
   "name": "sagemath"
  },
  "language_info": {
   "codemirror_mode": {
    "name": "ipython",
    "version": 3
   },
   "file_extension": ".py",
   "mimetype": "text/x-python",
   "name": "python",
   "nbconvert_exporter": "python",
   "pygments_lexer": "ipython3",
   "version": "3.9.1"
  }
 },
 "nbformat": 4,
 "nbformat_minor": 4
}
